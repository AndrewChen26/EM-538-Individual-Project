{
 "cells": [
  {
   "cell_type": "markdown",
   "metadata": {},
   "source": [
    "## Individual Project \n",
    "Andrew Chen"
   ]
  },
  {
   "cell_type": "code",
   "execution_count": null,
   "metadata": {},
   "outputs": [
    {
     "name": "stdout",
     "output_type": "stream",
     "text": [
      "Best parameters found:  {'max_depth': 10, 'n_estimators': 50}\n",
      "Best cross-validation score (NPV):  0.7554545454545455\n",
      "Test set NPV: 0.827586\n",
      "Test set Accuracy: 0.944055\n"
     ]
    },
    {
     "data": {
      "image/png": "[encoded data removed]",
      "text/plain": [
       "<Figure size 640x480 with 2 Axes>"
      ]
     },
     "metadata": {},
     "output_type": "display_data"
    }
   ],
   "source": [
    "import numpy as np\n",
    "import pandas as pd\n",
    "import seaborn as sns\n",
    "import matplotlib.pyplot as plt\n",
    "from sklearn.preprocessing import StandardScaler\n",
    "from sklearn.model_selection import train_test_split, GridSearchCV\n",
    "from sklearn.ensemble import RandomForestClassifier\n",
    "from sklearn.metrics import make_scorer, accuracy_score, confusion_matrix, ConfusionMatrixDisplay\n",
    "\n",
    "# Load data\n",
    "df = pd.read_csv(\"amazon_employee_access_train.csv\")\n",
    "\n",
    "X = df.drop([\"ACTION\"], axis=1)\n",
    "y = df[\"ACTION\"]\n",
    "\n",
    "X_train, X_test, y_train, y_test = train_test_split(X, y, test_size=0.3, random_state=0, stratify=y)\n",
    "\n",
    "# Standardize features\n",
    "sc = StandardScaler()\n",
    "X_train_std = sc.fit_transform(X_train)\n",
    "X_test_std = sc.transform(X_test)\n",
    "\n",
    "# Define custom scoring function for NPV\n",
    "def npv_score(y_true, y_pred):\n",
    "    tn, fp, fn, tp = confusion_matrix(y_true, y_pred).ravel()\n",
    "    return tn / (tn + fn) if (tn + fn) > 0 else 0\n",
    "\n",
    "# Create scorer\n",
    "npv_scorer = make_scorer(npv_score)\n",
    "\n",
    "# Update the parameter grid for Random Forest\n",
    "param_grid = {\n",
    "    'n_estimators': [50, 100, 200],       # Number of trees in the forest\n",
    "    'max_depth': [None, 5, 10, 20],     # Maximum depth of the tree\n",
    "}\n",
    "\n",
    "# Initialize the Random Forest model\n",
    "rf = RandomForestClassifier(random_state=0)\n",
    "\n",
    "# Initialize GridSearchCV with NPV scorer\n",
    "grid_search = GridSearchCV(estimator=rf, param_grid=param_grid, cv=5, scoring=npv_scorer)\n",
    "\n",
    "# Fit GridSearchCV\n",
    "grid_search.fit(X_train_std, y_train)\n",
    "\n",
    "# Print the best parameters and score\n",
    "print(\"Best parameters found: \", grid_search.best_params_)\n",
    "print(\"Best cross-validation score (NPV): \", grid_search.best_score_)\n",
    "\n",
    "# Evaluate on the test set\n",
    "best_rf = grid_search.best_estimator_\n",
    "y_test_pred = best_rf.predict(X_test_std)\n",
    "\n",
    "# Calculate NPV\n",
    "test_npv = npv_score(y_test, y_test_pred)\n",
    "print(\"Test set NPV: %f\" % test_npv)\n",
    "\n",
    "# Calculate Accuracy\n",
    "test_accuracy = accuracy_score(y_test, y_test_pred)\n",
    "print(\"Test set Accuracy: %f\" % test_accuracy)\n",
    "\n",
    "# Confusion matrix\n",
    "conf_matrix = confusion_matrix(y_test, y_test_pred)\n",
    "\n",
    "# Plot\n",
    "disp1 = ConfusionMatrixDisplay(confusion_matrix=conf_matrix, display_labels=best_rf.classes_)\n",
    "fig, ax = plt.subplots()\n",
    "disp1.plot(cmap=plt.cm.Blues, ax=ax, colorbar=True)\n",
    "ax.invert_yaxis()\n",
    "plt.title(\"Confusion Matrix\")\n",
    "plt.show()\n",
    "\n"
   ]
  },
  {
   "cell_type": "markdown",
   "metadata": {},
   "source": [
    "# Testing #\n",
    "Insert the test csv file in here"
   ]
  },
  {
   "cell_type": "code",
   "execution_count": null,
   "metadata": {},
   "outputs": [],
   "source": [
    "# Read csv file\n",
    "df_test = pd.read_csv(\"Test File\")      # Change the test file to your test file\n",
    "\n",
    "# Split the data to X and Y\n",
    "X_test = df_test.drop(df_test.columns[-1],axis = 1)\n",
    "X_test_std = sc.fit_transform(X_test)\n",
    "y_test = df_test.iloc[:,[-1]]\n",
    "\n",
    "#test predict\n",
    "y_test_pred = best_rf.predict(X_test_std)\n",
    "\n",
    "#test score\n",
    "\n",
    "# Calculate NPV \n",
    "test_npv = npv_score(y_test, y_test_pred)\n",
    "print(\"Test set NPV: %f\" % test_npv)\n",
    "\n",
    "# Calculate Accuracy\n",
    "test_accuracy = accuracy_score(y_test, y_test_pred)\n",
    "print(\"Test set Accuracy: %f\" % test_accuracy)\n",
    "\n",
    "# Confusion matrix\n",
    "conf_matrix = confusion_matrix(y_test, y_test_pred)\n",
    "\n",
    "# Plot\n",
    "disp1 = ConfusionMatrixDisplay(confusion_matrix=conf_matrix, display_labels=best_rf.classes_)\n",
    "fig, ax = plt.subplots()\n",
    "disp1.plot(cmap=plt.cm.Blues, ax=ax, colorbar=True)\n",
    "ax.invert_yaxis()\n",
    "plt.title(\"Confusion Matrix\")\n",
    "plt.show()"
   ]
  }
 ],
 "metadata": {
  "kernelspec": {
   "display_name": "base",
   "language": "python",
   "name": "python3"
  },
  "language_info": {
   "codemirror_mode": {
    "name": "ipython",
    "version": 3
   },
   "file_extension": ".py",
   "mimetype": "text/x-python",
   "name": "python",
   "nbconvert_exporter": "python",
   "pygments_lexer": "ipython3",
   "version": "3.12.3"
  }
 },
 "nbformat": 4,
 "nbformat_minor": 2
}
