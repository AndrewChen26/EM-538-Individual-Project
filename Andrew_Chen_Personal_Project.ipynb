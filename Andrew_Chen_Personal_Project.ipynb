{
 "cells": [
  {
   "cell_type": "markdown",
   "metadata": {},
   "source": [
    "## Individual Project \n",
    "Andrew Chen"
   ]
  },
  {
   "cell_type": "code",
   "execution_count": 6,
   "metadata": {},
   "outputs": [
    {
     "name": "stdout",
     "output_type": "stream",
     "text": [
      "Best parameters found:  {'max_depth': 1, 'max_features': None, 'min_samples_split': 2}\n",
      "Best cross-validation score:  1.0\n",
      "Test set recall: 0.942122\n"
     ]
    }
   ],
   "source": [
    "import numpy as np\n",
    "import pandas as pd\n",
    "import seaborn as sns\n",
    "import matplotlib.pyplot as plt\n",
    "from sklearn.preprocessing import StandardScaler\n",
    "from sklearn.model_selection import train_test_split\n",
    "from sklearn.model_selection import GridSearchCV\n",
    "from sklearn.tree import DecisionTreeClassifier\n",
    "\n",
    "\n",
    "df = pd.read_csv(\"amazon_employee_access_train.csv\")\n",
    "\n",
    "X = df.drop([\"ACTION\"], axis = 1)\n",
    "y = df[[\"ACTION\"]] \n",
    "\n",
    "X_train, X_test, y_train, y_test = train_test_split(X, y, test_size=0.3, random_state=0, stratify=y)\n",
    "\n",
    "sc = StandardScaler()\n",
    "X_train_std = sc.fit_transform(X_train)\n",
    "X_test_std = sc.transform(X_test)\n",
    "\n",
    "\n",
    "# Set up the parameter grid\n",
    "param_grid = {\n",
    "    'max_depth': [1, 3, 5, 6, None],  # Range of depths to test\n",
    "    'min_samples_split': [2, 4, 6, 8],  # Different minimum samples per split\n",
    "    'max_features': [None, 'sqrt', 'log2']  # Various options for max features\n",
    "}\n",
    "\n",
    "# Initialize the model\n",
    "tree = DecisionTreeClassifier()\n",
    "\n",
    "# Initialize GridSearchCV\n",
    "grid_search = GridSearchCV(estimator=tree, param_grid=param_grid, cv=5, scoring='recall')\n",
    "\n",
    "# Fit GridSearchCV\n",
    "grid_search.fit(X_train_std, y_train)\n",
    "\n",
    "# Print the best parameters and score\n",
    "print(\"Best parameters found: \", grid_search.best_params_)\n",
    "print(\"Best cross-validation score: \", grid_search.best_score_)\n",
    "\n",
    "# Evaluate on the test set\n",
    "best_tree = grid_search.best_estimator_\n",
    "test_score = best_tree.score(X_test_std, y_test)\n",
    "print(\"Test set recall: %f\" % test_score)"
   ]
  }
 ],
 "metadata": {
  "kernelspec": {
   "display_name": "base",
   "language": "python",
   "name": "python3"
  },
  "language_info": {
   "codemirror_mode": {
    "name": "ipython",
    "version": 3
   },
   "file_extension": ".py",
   "mimetype": "text/x-python",
   "name": "python",
   "nbconvert_exporter": "python",
   "pygments_lexer": "ipython3",
   "version": "3.12.3"
  }
 },
 "nbformat": 4,
 "nbformat_minor": 2
}
